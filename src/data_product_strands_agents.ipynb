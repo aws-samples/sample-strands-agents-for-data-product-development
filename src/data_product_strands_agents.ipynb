{
 "cells": [
  {
   "cell_type": "markdown",
   "metadata": {},
   "source": [
    "# Data Product Development Multi-Agent System with Strands Agents\n",
    "\n",
    "This notebook implements a multi-agent collaboration system for data product development using Strands Agents SDK. The system includes:\n",
    "- Supervisor agent for coordination\n",
    "- Data modeler agent for schema design\n",
    "- Data engineer agent for code generation\n",
    "- Code runner agent for execution\n",
    "- Tracing and observability"
   ]
  },
  {
   "cell_type": "code",
   "execution_count": 9,
   "metadata": {},
   "outputs": [],
   "source": [
    "# Import required libraries\n",
    "import os\n",
    "import json\n",
    "from types import SimpleNamespace\n",
    "import time \n",
    "from workflow import * "
   ]
  },
  {
   "cell_type": "code",
   "execution_count": null,
   "metadata": {},
   "outputs": [],
   "source": [
    "# Configure tracing (optional)\n",
    "# Tracing is handled automatically by Strands Agents SDK\n",
    "os.environ[\"STRANDS_OTEL_ENABLE_CONSOLE_EXPORT\"] = \"true\"\n",
    "os.environ[\"OTEL_SERVICE_NAME\"] = \"data-product-agents\"\n",
    "\n",
    "print(\"✅ Tracing configured - Strands will automatically trace agent interactions\")"
   ]
  },
  {
   "cell_type": "markdown",
   "metadata": {},
   "source": [
    "## Configuration and Shared State"
   ]
  },
  {
   "cell_type": "code",
   "execution_count": 11,
   "metadata": {},
   "outputs": [],
   "source": [
    "def load_config(config_path):\n",
    "    \"\"\"Load configuration from JSON file and return as object with attribute access.\"\"\"\n",
    "    with open(config_path, 'r') as f:\n",
    "        config_dict = json.load(f)\n",
    "    return SimpleNamespace(**config_dict)"
   ]
  },
  {
   "cell_type": "code",
   "execution_count": 12,
   "metadata": {},
   "outputs": [],
   "source": [
    "config = load_config(\"../config.json\")"
   ]
  },
  {
   "cell_type": "markdown",
   "metadata": {},
   "source": [
    "## Define the data product development request"
   ]
  },
  {
   "cell_type": "code",
   "execution_count": null,
   "metadata": {},
   "outputs": [],
   "source": [
    "business_case = \"DESCRIBE YOUR BUSINESS CASE TO LET THE AGENTS KNOW WHAT THIS DATA PRODUCT IS FOR.\""
   ]
  },
  {
   "cell_type": "code",
   "execution_count": null,
   "metadata": {},
   "outputs": [],
   "source": [
    "user_input = f\"\"\"\n",
    "Design a data product for {Business_Case}\n",
    "\n",
    "The source data folder is : {config.sample_source_data}\n",
    "The output data model should be saved in: {config.data_model_output_folder}\n",
    "The generated code should be saved as: {config.generated_code_location}\n",
    "The final data product should be saved in: {config.data_product_folder}\n",
    "\n",
    "Once the data model is designed, generate the ETL code and execute it to create the data product.\n",
    "\"\"\"\n",
    "\n",
    "print(\"📋 Development Request:\")\n",
    "print(user_input)\n",
    "print(\"\\n🔄 Starting workflow execution...\")"
   ]
  },
  {
   "cell_type": "markdown",
   "metadata": {},
   "source": [
    "## Execute Data Product Development Workflow"
   ]
  },
  {
   "cell_type": "code",
   "execution_count": 16,
   "metadata": {},
   "outputs": [],
   "source": [
    "def run_data_workflow(user_input):\n",
    "    # Step 1: Researcher Agent gathers web information\n",
    "    modeling_response = data_modeler_agent(\n",
    "        f\"Generate data model based on the business requirement: '{user_input}' \",\n",
    "    )\n",
    "    data_models = str(modeling_response)\n",
    "    time.sleep(60)\n",
    "    # Step 2: Analyst Agent verifies facts\n",
    "    engineer_response = data_engineer_agent(\n",
    "        f\"Generate code based on the business requirements:'{user_input}' and  and data model:\\n\\n{data_models}\",\n",
    "    )\n",
    "    code = str(engineer_response)\n",
    "    \n",
    "    time.sleep(60)\n",
    "    # Step 3: Writer Agent creates report\n",
    "    final_output = code_runner_agent(\n",
    "        f\"Find the saved code location based on provided'{user_input}', execute the code\"\n",
    "    )\n",
    "\n",
    "    return final_output"
   ]
  },
  {
   "cell_type": "code",
   "execution_count": null,
   "metadata": {
    "scrolled": true
   },
   "outputs": [],
   "source": [
    "results = run_data_workflow(user_input)"
   ]
  },
  {
   "cell_type": "code",
   "execution_count": null,
   "metadata": {},
   "outputs": [],
   "source": []
  },
  {
   "cell_type": "code",
   "execution_count": null,
   "metadata": {},
   "outputs": [],
   "source": []
  }
 ],
 "metadata": {
  "kernelspec": {
   "display_name": "Python 3 (ipykernel)",
   "language": "python",
   "name": "python3"
  },
  "language_info": {
   "codemirror_mode": {
    "name": "ipython",
    "version": 3
   },
   "file_extension": ".py",
   "mimetype": "text/x-python",
   "name": "python",
   "nbconvert_exporter": "python",
   "pygments_lexer": "ipython3",
   "version": "3.13.0"
  }
 },
 "nbformat": 4,
 "nbformat_minor": 4
}
